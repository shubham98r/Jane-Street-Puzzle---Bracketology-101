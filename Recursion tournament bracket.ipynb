{
 "cells": [
  {
   "cell_type": "markdown",
   "id": "2fd53f78",
   "metadata": {},
   "source": [
    "_This puzzle has been taken from [Jane Street](https://www.janestreet.com)'s puzzle page [here](https://www.janestreet.com/puzzles/bracketology-101-index/)_."
   ]
  },
  {
   "cell_type": "markdown",
   "id": "b60d139f",
   "metadata": {},
   "source": [
    "# Recursive & memoized computation of ideal seed swap for tournament bracket\n",
    "---"
   ]
  },
  {
   "attachments": {
    "image.png": {
     "image/png": "[encoded data removed]"
    }
   },
   "cell_type": "markdown",
   "id": "8c3740ce",
   "metadata": {},
   "source": [
    "![image.png](attachment:image.png)"
   ]
  },
  {
   "cell_type": "markdown",
   "id": "0f369dd9",
   "metadata": {},
   "source": [
    "---\n",
    "## `Tournament setup`\n",
    "\n",
    "A tournament with $16$ competitors, are seeded $1$-$16$, and arranged in the single-elimination bracket as pictured above. Assume that when the $X$-seed plays the $Y$-seed, the $X$-seed has a probability of winning: \n",
    "$$\n",
    "P(X \\text{ win}) = \\frac{Y}{(X+Y)}\n",
    "$$\n",
    "E.g. in the first round, the $5$-seed has a $\\frac{12}{17}$ chance of beating the $12$-seed."
   ]
  },
  {
   "cell_type": "markdown",
   "id": "ee689390",
   "metadata": {},
   "source": [
    "---\n",
    "## `Problem Statement`\n",
    "\n",
    "The $2$-seed has the chance to secretly swap two teams placements in the bracket before the tournament begins. So, for example, say they choose to swap the $8$- and $16$-seeds. Then the $8$-seed would play their first game against the $1$-seed and have a $1/9$ chance of advancing to the next round, and the $16$-seed would play their first game against the $9$-seed and have a $9/25$ chance of advancing.\n",
    "\n",
    "What seeds should the $2$-seed swap to maximize their (the $2$-seed’s) probability of winning the tournament, and how much does the swap increase that probability?"
   ]
  },
  {
   "cell_type": "markdown",
   "id": "201d1596",
   "metadata": {},
   "source": [
    "---\n",
    "## `Solution`\n",
    "\n",
    "A good algorithm to solve this problem is to compute the probability distributions of the winners of each match **`recursively`**, given each swap. This is true because recursive tools are good at enumerating all possible scenarios. Our problem requires us to enumerate all possibilities (_of a seed emerging winner_) while following the fundamental rules of **`law of total probability`**. We will also see if **`memoization`** can be a helpful tool for our problem solving.\n",
    "\n",
    "> ### *`Recursion`*\n",
    "*Recursion is a method of solving a computational problem where the solution depends on solutions to smaller instances of the same problem. Recursion solves such recursive problems by using functions that call themselves from within their own code.*\n",
    ">### _`Memoization`_\n",
    "_In computing, memoization or memoisation is an optimization technique used primarily to speed up computer programs by storing the results of expensive function calls and returning the cached result when the same inputs occur again._\n",
    ">### _`Law of Total Probability`_\n",
    "_In probability theory, the law of total probability is a fundamental rule relating marginal probabilities to `conditional probabilities`. It expresses the total probability of an outcome which can be realized via several distinct events, hence the name._"
   ]
  },
  {
   "cell_type": "markdown",
   "id": "313e04b3",
   "metadata": {},
   "source": [
    "---\n",
    "## `Code`\n",
    "Store seed and order of competitors in a `list`. \n",
    "_**Note:** order is important here._"
   ]
  },
  {
   "cell_type": "code",
   "execution_count": 1,
   "id": "93289524",
   "metadata": {},
   "outputs": [],
   "source": [
    "main_seed = 2\n",
    "competitors = [1, 16, 8, 9, 5, 12, 4, 13, 6, 11, 3, 14, 7, 10, 2, 15]"
   ]
  },
  {
   "cell_type": "markdown",
   "id": "28a5d69b",
   "metadata": {},
   "source": [
    "##### `Function to compute winning probability distribution of seeds`"
   ]
  },
  {
   "cell_type": "code",
   "execution_count": 2,
   "id": "e80b3ddb",
   "metadata": {},
   "outputs": [],
   "source": [
    "def prob_win(compete_list):\n",
    "    \n",
    "    # base case\n",
    "    if len(compete_list) == 2:\n",
    "        \n",
    "        x = compete_list[0]\n",
    "        y = compete_list[1]\n",
    "        p_basic_win = {x: y/(x+y),\n",
    "                       y: x/(x+y)}\n",
    "        return p_basic_win\n",
    "    \n",
    "    else:\n",
    "        \n",
    "        # initialize a dictionary for probability distribution and divide the problem into two halves\n",
    "        p_win = {}\n",
    "        idx = len(compete_list) // 2\n",
    "        \n",
    "        \"\"\"\n",
    "        for each seed in one half, compute their probability of winning against\n",
    "        all possible seeds that will emerge winner from another half\n",
    "        \n",
    "        this follows the basic principle of law of total probability\n",
    "        and recursive solution will iterate through all possible scenarios\n",
    "        \"\"\"\n",
    "        \n",
    "        # first half\n",
    "        for y in compete_list[:idx]:\n",
    "            \n",
    "            total_prob = 0\n",
    "            for x in compete_list[idx:]:\n",
    "                total_prob += prob_win(compete_list[:idx])[y] * \\\n",
    "                              prob_win(compete_list[idx:])[x] * \\\n",
    "                              prob_win([x, y])[y]\n",
    "            p_win[y] = total_prob\n",
    "        \n",
    "        # second half\n",
    "        for y in compete_list[idx:]:\n",
    "            \n",
    "            total_prob = 0\n",
    "            for x in compete_list[:idx]:\n",
    "                total_prob += prob_win(compete_list[idx:])[y] * \\\n",
    "                              prob_win(compete_list[:idx])[x] * \\\n",
    "                              prob_win([x, y])[y]\n",
    "            p_win[y] = total_prob\n",
    "        \n",
    "        # return probability distribution dictionary\n",
    "        return p_win"
   ]
  },
  {
   "cell_type": "markdown",
   "id": "77b00fce",
   "metadata": {},
   "source": [
    "##### `Winning probabilities in current order`"
   ]
  },
  {
   "cell_type": "code",
   "execution_count": 3,
   "id": "540884b3",
   "metadata": {},
   "outputs": [
    {
     "name": "stdout",
     "output_type": "stream",
     "text": [
      "CPU times: user 263 ms, sys: 4.85 ms, total: 268 ms\n",
      "Wall time: 270 ms\n"
     ]
    },
    {
     "data": {
      "text/plain": [
       "{1: 0.5192183551301611,\n",
       " 16: 0.0009035621683887103,\n",
       " 8: 0.008741208318903763,\n",
       " 9: 0.006136487216153138,\n",
       " 5: 0.033561501223655615,\n",
       " 12: 0.0026670619351496184,\n",
       " 4: 0.05668634688419432,\n",
       " 13: 0.0020387261731212784,\n",
       " 6: 0.021798623488660122,\n",
       " 11: 0.003673491403505775,\n",
       " 3: 0.10678948365900305,\n",
       " 14: 0.0016381437654795343,\n",
       " 7: 0.014006607999788739,\n",
       " 10: 0.0048488911001328145,\n",
       " 2: 0.21603968781701652,\n",
       " 15: 0.0012518217166858038}"
      ]
     },
     "execution_count": 3,
     "metadata": {},
     "output_type": "execute_result"
    }
   ],
   "source": [
    "%%time\n",
    "prob_dbn = prob_win(competitors)\n",
    "prob_dbn"
   ]
  },
  {
   "cell_type": "markdown",
   "id": "09f2edf3",
   "metadata": {},
   "source": [
    "---\n",
    "##### `Sanity checks`"
   ]
  },
  {
   "cell_type": "code",
   "execution_count": 4,
   "id": "e27f74a8",
   "metadata": {},
   "outputs": [
    {
     "name": "stdout",
     "output_type": "stream",
     "text": [
      "Sum of probabilities = 1.00\n"
     ]
    }
   ],
   "source": [
    "print(f'Sum of probabilities = {sum(prob_dbn.values()):.2f}')"
   ]
  },
  {
   "cell_type": "markdown",
   "id": "715c3471",
   "metadata": {},
   "source": [
    "We expect to see lower seeds having higher probability of winning."
   ]
  },
  {
   "cell_type": "code",
   "execution_count": 5,
   "id": "6e4bb835",
   "metadata": {},
   "outputs": [
    {
     "name": "stdout",
     "output_type": "stream",
     "text": [
      "Prob win of seed 1 = 0.5192\n",
      "Prob win of seed 2 = 0.2160 (main seed)\n",
      "Prob win of seed 3 = 0.1068\n",
      "Prob win of seed 4 = 0.0567\n",
      "Prob win of seed 5 = 0.0336\n",
      "Prob win of seed 6 = 0.0218\n",
      "Prob win of seed 7 = 0.0140\n",
      "Prob win of seed 8 = 0.0087\n",
      "Prob win of seed 9 = 0.0061\n",
      "Prob win of seed 10 = 0.0048\n",
      "Prob win of seed 11 = 0.0037\n",
      "Prob win of seed 12 = 0.0027\n",
      "Prob win of seed 13 = 0.0020\n",
      "Prob win of seed 14 = 0.0016\n",
      "Prob win of seed 15 = 0.0013\n",
      "Prob win of seed 16 = 0.0009\n"
     ]
    }
   ],
   "source": [
    "sort_prob_dbn = dict(sorted(prob_dbn.items()))    # sort dictionary by key\n",
    "\n",
    "for i in sort_prob_dbn:\n",
    "    if i == main_seed:\n",
    "        print(f'Prob win of seed {i} = {sort_prob_dbn[i]:.4f} (main seed)')\n",
    "    else:\n",
    "        print(f'Prob win of seed {i} = {sort_prob_dbn[i]:.4f}')"
   ]
  },
  {
   "cell_type": "markdown",
   "id": "401a68b2",
   "metadata": {},
   "source": [
    "---\n",
    "##### `Function to get all possible swaps`"
   ]
  },
  {
   "cell_type": "code",
   "execution_count": 6,
   "id": "67de8fcd",
   "metadata": {},
   "outputs": [],
   "source": [
    "def get_all_swaps(x, seed):\n",
    "    \n",
    "    temp = x.copy()                             # cuz Python follows pass by object reference and list is mutable\n",
    "    temp.remove(seed)\n",
    "    swaps = []\n",
    "    \n",
    "    for i in range(len(temp) - 1):              # iteration for all possible seed swaps\n",
    "        for j in range(i + 1, len(temp)):\n",
    "            swaps.append((temp[i], temp[j]))\n",
    "            \n",
    "    return swaps"
   ]
  },
  {
   "cell_type": "code",
   "execution_count": 7,
   "id": "a5063f86",
   "metadata": {
    "scrolled": true
   },
   "outputs": [
    {
     "data": {
      "text/plain": [
       "[(1, 16),\n",
       " (1, 8),\n",
       " (1, 9),\n",
       " (1, 5),\n",
       " (1, 12),\n",
       " (1, 4),\n",
       " (1, 13),\n",
       " (1, 6),\n",
       " (1, 11),\n",
       " (1, 3),\n",
       " (1, 14),\n",
       " (1, 7),\n",
       " (1, 10),\n",
       " (1, 15),\n",
       " (16, 8),\n",
       " (16, 9),\n",
       " (16, 5),\n",
       " (16, 12),\n",
       " (16, 4),\n",
       " (16, 13),\n",
       " (16, 6),\n",
       " (16, 11),\n",
       " (16, 3),\n",
       " (16, 14),\n",
       " (16, 7),\n",
       " (16, 10),\n",
       " (16, 15),\n",
       " (8, 9),\n",
       " (8, 5),\n",
       " (8, 12),\n",
       " (8, 4),\n",
       " (8, 13),\n",
       " (8, 6),\n",
       " (8, 11),\n",
       " (8, 3),\n",
       " (8, 14),\n",
       " (8, 7),\n",
       " (8, 10),\n",
       " (8, 15),\n",
       " (9, 5),\n",
       " (9, 12),\n",
       " (9, 4),\n",
       " (9, 13),\n",
       " (9, 6),\n",
       " (9, 11),\n",
       " (9, 3),\n",
       " (9, 14),\n",
       " (9, 7),\n",
       " (9, 10),\n",
       " (9, 15),\n",
       " (5, 12),\n",
       " (5, 4),\n",
       " (5, 13),\n",
       " (5, 6),\n",
       " (5, 11),\n",
       " (5, 3),\n",
       " (5, 14),\n",
       " (5, 7),\n",
       " (5, 10),\n",
       " (5, 15),\n",
       " (12, 4),\n",
       " (12, 13),\n",
       " (12, 6),\n",
       " (12, 11),\n",
       " (12, 3),\n",
       " (12, 14),\n",
       " (12, 7),\n",
       " (12, 10),\n",
       " (12, 15),\n",
       " (4, 13),\n",
       " (4, 6),\n",
       " (4, 11),\n",
       " (4, 3),\n",
       " (4, 14),\n",
       " (4, 7),\n",
       " (4, 10),\n",
       " (4, 15),\n",
       " (13, 6),\n",
       " (13, 11),\n",
       " (13, 3),\n",
       " (13, 14),\n",
       " (13, 7),\n",
       " (13, 10),\n",
       " (13, 15),\n",
       " (6, 11),\n",
       " (6, 3),\n",
       " (6, 14),\n",
       " (6, 7),\n",
       " (6, 10),\n",
       " (6, 15),\n",
       " (11, 3),\n",
       " (11, 14),\n",
       " (11, 7),\n",
       " (11, 10),\n",
       " (11, 15),\n",
       " (3, 14),\n",
       " (3, 7),\n",
       " (3, 10),\n",
       " (3, 15),\n",
       " (14, 7),\n",
       " (14, 10),\n",
       " (14, 15),\n",
       " (7, 10),\n",
       " (7, 15),\n",
       " (10, 15)]"
      ]
     },
     "execution_count": 7,
     "metadata": {},
     "output_type": "execute_result"
    }
   ],
   "source": [
    "all_swaps = get_all_swaps(competitors, main_seed)\n",
    "all_swaps"
   ]
  },
  {
   "cell_type": "markdown",
   "id": "9c0753e9",
   "metadata": {},
   "source": [
    "---\n",
    "##### `Function to return a swapped list`"
   ]
  },
  {
   "cell_type": "code",
   "execution_count": 8,
   "id": "dd58fdd9",
   "metadata": {},
   "outputs": [],
   "source": [
    "def swap(x, ele):\n",
    "    \n",
    "    temp = x.copy()                       # cuz Python follows pass by object reference and list is mutable\n",
    "    i = temp.index(ele[0])\n",
    "    j = temp.index(ele[1])\n",
    "    temp[i], temp[j] = ele[1], ele[0]     # swap\n",
    "    \n",
    "    return temp"
   ]
  },
  {
   "cell_type": "code",
   "execution_count": 9,
   "id": "74811fc2",
   "metadata": {},
   "outputs": [
    {
     "name": "stdout",
     "output_type": "stream",
     "text": [
      "[1, 16, 8, 9, 5, 12, 4, 13, 6, 11, 3, 14, 7, 10, 2, 15]\n",
      "[1, 16, 8, 9, 5, 12, 7, 13, 6, 11, 3, 14, 4, 10, 2, 15]\n"
     ]
    }
   ],
   "source": [
    "# an example\n",
    "print(competitors)\n",
    "print(swap(competitors, (4, 7)))"
   ]
  },
  {
   "cell_type": "markdown",
   "id": "6c82ebda",
   "metadata": {},
   "source": [
    "---\n",
    "##### `Store winning probability distribution of seeds for all possible swaps`"
   ]
  },
  {
   "cell_type": "code",
   "execution_count": 10,
   "id": "86b654a9",
   "metadata": {},
   "outputs": [
    {
     "name": "stdout",
     "output_type": "stream",
     "text": [
      "CPU times: user 27.6 s, sys: 236 ms, total: 27.8 s\n",
      "Wall time: 28.5 s\n"
     ]
    }
   ],
   "source": [
    "%%time\n",
    "store = {}\n",
    "\n",
    "for i in all_swaps:\n",
    "    store[i] = prob_win(swap(competitors, i))"
   ]
  },
  {
   "cell_type": "markdown",
   "id": "676bdd57",
   "metadata": {},
   "source": [
    "---\n",
    "##### `Best swap and corresponding probability distribution of seeds`"
   ]
  },
  {
   "cell_type": "code",
   "execution_count": 11,
   "id": "93cf98e6",
   "metadata": {},
   "outputs": [
    {
     "data": {
      "text/plain": [
       "(16, 3)"
      ]
     },
     "execution_count": 11,
     "metadata": {},
     "output_type": "execute_result"
    }
   ],
   "source": [
    "\"\"\"\n",
    "Sort in descending order the 'store' dictionary by using\n",
    "winning probability of seed 2 for each swap case as the key\n",
    "and get the corresponding best swap and probability distribution\n",
    "at zeroth index (after sorting by above described key)\n",
    "\"\"\"\n",
    "\n",
    "best_swap, best_prob_dbn = sorted(store.items(), key = lambda x: x[1][2], reverse = True)[0]\n",
    "best_swap"
   ]
  },
  {
   "cell_type": "code",
   "execution_count": 12,
   "id": "0ffef3b6",
   "metadata": {},
   "outputs": [
    {
     "name": "stdout",
     "output_type": "stream",
     "text": [
      "Prob win of seed 1 = 0.4253\n",
      "Prob win of seed 2 = 0.2816 (main seed)\n",
      "Prob win of seed 3 = 0.0629\n",
      "Prob win of seed 4 = 0.0696\n",
      "Prob win of seed 5 = 0.0419\n",
      "Prob win of seed 6 = 0.0437\n",
      "Prob win of seed 7 = 0.0225\n",
      "Prob win of seed 8 = 0.0106\n",
      "Prob win of seed 9 = 0.0074\n",
      "Prob win of seed 10 = 0.0082\n",
      "Prob win of seed 11 = 0.0086\n",
      "Prob win of seed 12 = 0.0035\n",
      "Prob win of seed 13 = 0.0027\n",
      "Prob win of seed 14 = 0.0056\n",
      "Prob win of seed 15 = 0.0022\n",
      "Prob win of seed 16 = 0.0037\n"
     ]
    }
   ],
   "source": [
    "sort_best_prob_dbn = dict(sorted(best_prob_dbn.items()))\n",
    "\n",
    "for i in sort_best_prob_dbn:\n",
    "    if i == main_seed:\n",
    "        print(f'Prob win of seed {i} = {sort_best_prob_dbn[i]:.4f} (main seed)')\n",
    "    else:\n",
    "        print(f'Prob win of seed {i} = {sort_best_prob_dbn[i]:.4f}')"
   ]
  },
  {
   "cell_type": "code",
   "execution_count": 13,
   "id": "8bd8f960",
   "metadata": {},
   "outputs": [
    {
     "name": "stdout",
     "output_type": "stream",
     "text": [
      "Gain in probability: 0.065580\n"
     ]
    }
   ],
   "source": [
    "print(f'Gain in probability: {best_prob_dbn[2] - prob_dbn[2]:.6f}')"
   ]
  },
  {
   "cell_type": "markdown",
   "id": "2cc0aa74",
   "metadata": {},
   "source": [
    "---\n",
    "## `Memoization`\n",
    "Let's see if memoized approach can speed up our calculations. "
   ]
  },
  {
   "cell_type": "code",
   "execution_count": 14,
   "id": "dfd8b0ed",
   "metadata": {},
   "outputs": [],
   "source": [
    "memo = {}\n",
    "\n",
    "def prob_win_memo(compete_list):\n",
    "    \n",
    "    key = tuple(compete_list)      # convert to tuple as tuple is immutable and dict key should be hashable (i.e. immutable)\n",
    "    \n",
    "    if key in memo:                # check memo\n",
    "        return memo[key]\n",
    "    \n",
    "    elif len(compete_list) == 2:   # base case\n",
    "        \n",
    "        x = compete_list[0]\n",
    "        y = compete_list[1]\n",
    "        p_basic_win = {x: y/(x+y),\n",
    "                       y: x/(x+y)}\n",
    "        memo[key] = p_basic_win    # store results in dict\n",
    "        return memo[key]\n",
    "    \n",
    "    else:\n",
    "        \n",
    "        idx = len(compete_list) // 2\n",
    "        p_win = {}\n",
    "        \n",
    "        for y in compete_list[:idx]:\n",
    "            \n",
    "            total_prob = 0\n",
    "            for x in compete_list[idx:]:\n",
    "                total_prob += prob_win(compete_list[:idx])[y] * \\\n",
    "                              prob_win(compete_list[idx:])[x] * \\\n",
    "                              prob_win([x, y])[y]\n",
    "            p_win[y] = total_prob\n",
    "            \n",
    "        for y in compete_list[idx:]:\n",
    "            \n",
    "            total_prob = 0\n",
    "            for x in compete_list[:idx]:\n",
    "                total_prob += prob_win(compete_list[idx:])[y] * \\\n",
    "                              prob_win(compete_list[:idx])[x] * \\\n",
    "                              prob_win([x, y])[y]\n",
    "            p_win[y] = total_prob\n",
    "        \n",
    "        memo[key] = p_win           # store results in dict\n",
    "        \n",
    "        return memo[key]"
   ]
  },
  {
   "cell_type": "code",
   "execution_count": 15,
   "id": "1e2a8a3b",
   "metadata": {
    "scrolled": true
   },
   "outputs": [
    {
     "name": "stdout",
     "output_type": "stream",
     "text": [
      "CPU times: user 26.6 s, sys: 173 ms, total: 26.8 s\n",
      "Wall time: 27.5 s\n"
     ]
    }
   ],
   "source": [
    "%%time\n",
    "store_memo = {}\n",
    "\n",
    "for i in all_swaps:\n",
    "    store_memo[i] = prob_win_memo(swap(competitors, i))"
   ]
  },
  {
   "cell_type": "markdown",
   "id": "daa488aa",
   "metadata": {},
   "source": [
    "Let's compare the time taken by `naive recursive` vs `memoized` code\n",
    "\n",
    "| Code Type | Time Taken(s) |\n",
    "| :-: | :-: |\n",
    "| Naive Recursion | $28.5$s |\n",
    "| Memoization | $27.5$s |\n",
    "\n",
    "Barely any improvement (_only $1$ second_). But this is understandable because, specific to our problem - the order of seed in tournament matters (i.e. impacts `probability` of winning). Therefore, for each new swap, we end up generating almost new set of `keys` for our `memo dict`. The number of overlaps in keys is relatively low leading to very low performance gains.\n",
    "\n",
    "We do get same results from `memoization`, as can be seen below.\n",
    "\n",
    "---"
   ]
  },
  {
   "cell_type": "code",
   "execution_count": 16,
   "id": "8fef29a8",
   "metadata": {},
   "outputs": [
    {
     "data": {
      "text/plain": [
       "(16, 3)"
      ]
     },
     "execution_count": 16,
     "metadata": {},
     "output_type": "execute_result"
    }
   ],
   "source": [
    "best_swap_memo, best_prob_dbn_memo = sorted(store_memo.items(), key = lambda x:x[1][2], reverse = True)[0]\n",
    "best_swap_memo"
   ]
  },
  {
   "cell_type": "code",
   "execution_count": 17,
   "id": "7ef99683",
   "metadata": {},
   "outputs": [
    {
     "name": "stdout",
     "output_type": "stream",
     "text": [
      "Prob win of seed 1 = 0.4253\n",
      "Prob win of seed 2 = 0.2816 (main seed)\n",
      "Prob win of seed 3 = 0.0629\n",
      "Prob win of seed 4 = 0.0696\n",
      "Prob win of seed 5 = 0.0419\n",
      "Prob win of seed 6 = 0.0437\n",
      "Prob win of seed 7 = 0.0225\n",
      "Prob win of seed 8 = 0.0106\n",
      "Prob win of seed 9 = 0.0074\n",
      "Prob win of seed 10 = 0.0082\n",
      "Prob win of seed 11 = 0.0086\n",
      "Prob win of seed 12 = 0.0035\n",
      "Prob win of seed 13 = 0.0027\n",
      "Prob win of seed 14 = 0.0056\n",
      "Prob win of seed 15 = 0.0022\n",
      "Prob win of seed 16 = 0.0037\n"
     ]
    }
   ],
   "source": [
    "sort_best_prob_dbn_memo = dict(sorted(best_prob_dbn_memo.items()))\n",
    "\n",
    "for i in sort_best_prob_dbn_memo:\n",
    "    if i == main_seed:\n",
    "        print(f'Prob win of seed {i} = {sort_best_prob_dbn_memo[i]:.4f} (main seed)')\n",
    "    else:\n",
    "        print(f'Prob win of seed {i} = {sort_best_prob_dbn_memo[i]:.4f}')"
   ]
  },
  {
   "cell_type": "code",
   "execution_count": 18,
   "id": "e9a673e2",
   "metadata": {},
   "outputs": [],
   "source": [
    "assert best_swap == best_swap_memo\n",
    "assert best_prob_dbn == best_prob_dbn_memo"
   ]
  },
  {
   "cell_type": "markdown",
   "id": "7bcc6249",
   "metadata": {},
   "source": [
    "---"
   ]
  }
 ],
 "metadata": {
  "kernelspec": {
   "display_name": "Python 3 (ipykernel)",
   "language": "python",
   "name": "python3"
  },
  "language_info": {
   "codemirror_mode": {
    "name": "ipython",
    "version": 3
   },
   "file_extension": ".py",
   "mimetype": "text/x-python",
   "name": "python",
   "nbconvert_exporter": "python",
   "pygments_lexer": "ipython3",
   "version": "3.9.7"
  }
 },
 "nbformat": 4,
 "nbformat_minor": 5
}
